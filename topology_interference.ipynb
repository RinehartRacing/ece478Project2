{
 "cells": [
  {
   "cell_type": "code",
   "execution_count": 1,
   "metadata": {},
   "outputs": [
    {
     "ename": "AttributeError",
     "evalue": "module 'numpy' has no attribute 'arrange'",
     "output_type": "error",
     "traceback": [
      "\u001b[1;31m---------------------------------------------------------------------------\u001b[0m",
      "\u001b[1;31mAttributeError\u001b[0m                            Traceback (most recent call last)",
      "Cell \u001b[1;32mIn [1], line 53\u001b[0m\n\u001b[0;32m     51\u001b[0m xlim5 \u001b[39m=\u001b[39m (\u001b[39m101\u001b[39m, \u001b[39m200\u001b[39m)\n\u001b[0;32m     52\u001b[0m xlim6 \u001b[39m=\u001b[39m (\u001b[39m201\u001b[39m, \u001b[39m1000\u001b[39m)\n\u001b[1;32m---> 53\u001b[0m bins1 \u001b[39m=\u001b[39m np\u001b[39m.\u001b[39;49marrange(xlim1[\u001b[39m0\u001b[39m], xlim1[\u001b[39m1\u001b[39m] \u001b[39m+\u001b[39m \u001b[39m1\u001b[39m, np\u001b[39m.\u001b[39mdiff(xlim1) \u001b[39m/\u001b[39m \u001b[39m50\u001b[39m)\n\u001b[0;32m     54\u001b[0m fig, ax \u001b[39m=\u001b[39m plt\u001b[39m.\u001b[39msubplots(figsize \u001b[39m=\u001b[39m(\u001b[39m10\u001b[39m, \u001b[39m7\u001b[39m))\n\u001b[0;32m     55\u001b[0m ax\u001b[39m.\u001b[39mhist(global_degree, bins \u001b[39m=\u001b[39m [\u001b[39m0\u001b[39m, \u001b[39m1\u001b[39m, \u001b[39m2\u001b[39m, \u001b[39m5\u001b[39m, \u001b[39m100\u001b[39m, \u001b[39m200\u001b[39m, \u001b[39m1000\u001b[39m])\n",
      "File \u001b[1;32m~\\AppData\\Local\\Packages\\PythonSoftwareFoundation.Python.3.9_qbz5n2kfra8p0\\LocalCache\\local-packages\\Python39\\site-packages\\numpy\\__init__.py:311\u001b[0m, in \u001b[0;36m__getattr__\u001b[1;34m(attr)\u001b[0m\n\u001b[0;32m    308\u001b[0m     \u001b[39mfrom\u001b[39;00m \u001b[39m.\u001b[39;00m\u001b[39mtesting\u001b[39;00m \u001b[39mimport\u001b[39;00m Tester\n\u001b[0;32m    309\u001b[0m     \u001b[39mreturn\u001b[39;00m Tester\n\u001b[1;32m--> 311\u001b[0m \u001b[39mraise\u001b[39;00m \u001b[39mAttributeError\u001b[39;00m(\u001b[39m\"\u001b[39m\u001b[39mmodule \u001b[39m\u001b[39m{!r}\u001b[39;00m\u001b[39m has no attribute \u001b[39m\u001b[39m\"\u001b[39m\n\u001b[0;32m    312\u001b[0m                      \u001b[39m\"\u001b[39m\u001b[39m{!r}\u001b[39;00m\u001b[39m\"\u001b[39m\u001b[39m.\u001b[39mformat(\u001b[39m__name__\u001b[39m, attr))\n",
      "\u001b[1;31mAttributeError\u001b[0m: module 'numpy' has no attribute 'arrange'"
     ]
    }
   ],
   "source": [
    "import matplotlib.pyplot as plt\n",
    "import numpy as np\n",
    "fopen = open(\"20220101.as-rel2.txt\", encoding=\"utf-8\")\n",
    "\n",
    "relationships = {}\n",
    "\n",
    "for line in fopen:\n",
    "    if line[0] != \"#\":\n",
    "        line_split = line.split(\"|\")\n",
    "        as1 = line_split[0].strip(\"\\n\")\n",
    "        as2 = line_split[1].strip(\"\\n\")\n",
    "        reltype = int(line_split[2].strip(\"\\n\"))\n",
    "        if as1 not in relationships:\n",
    "            # [Global Node Degree, Customer Degree, Peer Degree, Provider Degree]\n",
    "            relationships[as1] = [0, 0, 0, 0]\n",
    "        if as2 not in relationships:\n",
    "            # [Global Node Degree, Customer Degree, Peer Degree, Provider Degree]\n",
    "            relationships[as2] = [0, 0, 0, 0]\n",
    "        # If p2c\n",
    "        if reltype == -1:\n",
    "            # as1 has customer\n",
    "            relationships[as1][1] += 1\n",
    "            relationships[as1][0] += 1\n",
    "            # as2 has provider\n",
    "            relationships[as2][3] += 1\n",
    "            relationships[as2][0] += 1\n",
    "        # If p2p\n",
    "        elif reltype == 0:\n",
    "            #as1 has peer\n",
    "            relationships[as1][2] += 1\n",
    "            relationships[as1][0] += 1\n",
    "            #as2 has \n",
    "            relationships[as2][2] += 1\n",
    "            relationships[as2][0] += 1\n",
    "        else:\n",
    "            print(\"Unknown reltype\")\n",
    "        arr1 = relationships[as1]\n",
    "        arr2 = relationships[as2]\n",
    "        # print(as1)\n",
    "        # print(as2)\n",
    "        # print(arr1)\n",
    "        assert(arr1[0] == arr1[1] + arr1[2] + arr1[3])\n",
    "        assert(arr2[0] == arr2[1] + arr2[2] + arr2[3])\n",
    "global_degree = []\n",
    "for key in relationships:\n",
    "    global_degree.append(relationships[key][0])\n",
    "xlim1 = (0, 0)\n",
    "xlim2 = (1, 1)\n",
    "xlim3 = (2, 5)\n",
    "xlim4 = (5, 100)\n",
    "xlim5 = (101, 200)\n",
    "xlim6 = (201, 1000)\n",
    "bins1 = np.arrange(xlim1[0], xlim1[1] + 1, np.diff(xlim1) / 50)\n",
    "fig, ax = plt.subplots(figsize =(10, 7))\n",
    "ax.hist(global_degree, bins = [0, 1, 2, 5, 100, 200, 1000])\n"
   ]
  }
 ],
 "metadata": {
  "kernelspec": {
   "display_name": "Python 3.9.13 64-bit (microsoft store)",
   "language": "python",
   "name": "python3"
  },
  "language_info": {
   "codemirror_mode": {
    "name": "ipython",
    "version": 3
   },
   "file_extension": ".py",
   "mimetype": "text/x-python",
   "name": "python",
   "nbconvert_exporter": "python",
   "pygments_lexer": "ipython3",
   "version": "3.9.13"
  },
  "orig_nbformat": 4,
  "vscode": {
   "interpreter": {
    "hash": "d47c6b6e8d3491e961f37c29db1c796b3ad610463c7234ba8049f07dc2659ebc"
   }
  }
 },
 "nbformat": 4,
 "nbformat_minor": 2
}
